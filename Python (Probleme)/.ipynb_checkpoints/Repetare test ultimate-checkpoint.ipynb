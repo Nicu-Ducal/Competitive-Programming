{
 "cells": [
  {
   "cell_type": "code",
   "execution_count": 2,
   "metadata": {},
   "outputs": [
    {
     "name": "stdout",
     "output_type": "stream",
     "text": [
      "[[0, 0, 0, 0, 0, 0, 0, 0, 0, 0, 0], [0, 0, 40, 40, 40, 40, 40, 40, 40, 40, 40], [0, 0, 40, 300, 300, 340, 340, 340, 340, 340, 340], [0, 0, 40, 300, 300, 340, 340, 340, 340, 340, 340], [0, 0, 40, 300, 300, 340, 340, 345, 345, 385, 385], [0, 0, 40, 300, 300, 340, 340, 345, 345, 385, 385]]\n"
     ]
    }
   ],
   "source": [
    "#Problema rucsacului (PD)\n",
    "ob = [(2,40), (3,300), (15,3000), (4,45), (8,160)]\n",
    "g = 10\n",
    "\n",
    "dp = [[0] * (g + 1) for i in range(len(ob) + 1)]\n",
    "for i in range(1, len(ob) + 1):\n",
    "    for j in range(1, g + 1):\n",
    "        if j < ob[i - 1][0]:\n",
    "            dp[i][j] = dp[i - 1][j]\n",
    "        else:\n",
    "            dp[i][j] = max(dp[i - 1][j], ob[i - 1][1] + dp[i - 1][j - ob[i - 1][0]])\n",
    "print(dp)"
   ]
  },
  {
   "cell_type": "code",
   "execution_count": 7,
   "metadata": {},
   "outputs": [
    {
     "name": "stdout",
     "output_type": "stream",
     "text": [
      "[(15, 3000), (3, 300), (2, 40), (8, 160), (4, 45)]\n",
      "[(3, 300), (2, 40), (4, 45)] 385\n"
     ]
    }
   ],
   "source": [
    "#Problema rucsacului (Greedy)\n",
    "ob = [(2,40), (3,300), (15,3000), (4,45), (8,160)]\n",
    "g = 10\n",
    "\n",
    "ob.sort(key = lambda x : x[1]/x[0], reverse = True)\n",
    "print(ob)\n",
    "ans = []\n",
    "sol = 0\n",
    "for i in range(len(ob)):\n",
    "    if ob[i][0] < g:\n",
    "        ans.append(ob[i])\n",
    "        sol += ans[-1][1]\n",
    "        g -= ans[-1][0]\n",
    "print(ans, sol)"
   ]
  },
  {
   "cell_type": "code",
   "execution_count": 15,
   "metadata": {},
   "outputs": [
    {
     "name": "stdout",
     "output_type": "stream",
     "text": [
      "[7, 22, 25, 32, 40, 43, 45, 55, 60, 64, 66] 41.72727272727273\n",
      "[2, 4, 7, 10, 14, 19, 26, 33, 41, 51, 66] 24.818181818181817\n"
     ]
    }
   ],
   "source": [
    "#Minimizarea timpului de asteptare\n",
    "l = [7, 15, 3, 7, 8, 3, 2, 10, 5, 4, 2]\n",
    "med = [7]\n",
    "for i in range(1, len(l)):\n",
    "    med.append(l[i] + med[i - 1])\n",
    "print(med, sum(med)/len(med))\n",
    "\n",
    "l.sort()\n",
    "med = [l[0]]\n",
    "for i in range(1, len(l)):\n",
    "    med.append(l[i] + med[i - 1])\n",
    "print(med, sum(med)/len(med))"
   ]
  },
  {
   "cell_type": "code",
   "execution_count": 17,
   "metadata": {},
   "outputs": [
    {
     "name": "stdout",
     "output_type": "stream",
     "text": [
      "7\n"
     ]
    }
   ],
   "source": [
    "#Plata bancnote\n",
    "l = [1, 5, 10, 50, 100, 200, 500]\n",
    "s = 173\n",
    "\n",
    "banc = 0\n",
    "l.sort(reverse = 1)\n",
    "for b in l:\n",
    "    if s // b > 0:\n",
    "        banc += s // b\n",
    "        s -= (s//b) * b\n",
    "print(banc)"
   ]
  },
  {
   "cell_type": "code",
   "execution_count": 22,
   "metadata": {},
   "outputs": [
    {
     "name": "stdout",
     "output_type": "stream",
     "text": [
      "2\n",
      "3\n",
      "5\n",
      "7\n",
      "11\n",
      "13\n",
      "17\n",
      "19\n",
      "23\n",
      "29\n",
      "31\n",
      "37\n",
      "41\n",
      "43\n",
      "47\n",
      "53\n",
      "59\n",
      "61\n",
      "67\n",
      "71\n",
      "73\n",
      "79\n",
      "83\n"
     ]
    }
   ],
   "source": [
    "#Infinite generator de prime\n",
    "def prime():\n",
    "    x = 2\n",
    "    while True:\n",
    "        if x == 2:\n",
    "            yield x\n",
    "            x += 1\n",
    "        for i in range(2, int(x**0.5) + 1):\n",
    "            if x % i == 0:\n",
    "                x += 1\n",
    "                break\n",
    "        else:\n",
    "            yield x\n",
    "            x += 1\n",
    "            \n",
    "gen = prime()\n",
    "for i in range(23):\n",
    "    x = next(gen)\n",
    "    print(x)"
   ]
  },
  {
   "cell_type": "code",
   "execution_count": 26,
   "metadata": {},
   "outputs": [
    {
     "name": "stdout",
     "output_type": "stream",
     "text": [
      "1000\n"
     ]
    }
   ],
   "source": [
    "#Functii imbricate\n",
    "def putere(x):\n",
    "    def paux(y):\n",
    "        return x ** y\n",
    "    return paux\n",
    "\n",
    "pz = putere(10)\n",
    "print(pz(3))"
   ]
  },
  {
   "cell_type": "code",
   "execution_count": 38,
   "metadata": {},
   "outputs": [
    {
     "name": "stdout",
     "output_type": "stream",
     "text": [
      "10 [1, 3, 2, 5, 3, 2, 42, 23, 3, 19]\n",
      "6\n",
      "Da\n"
     ]
    }
   ],
   "source": [
    "#Laborator funciti \n",
    "\n",
    "def citire():\n",
    "    with open(\"blea.in\") as f:\n",
    "        n = int(f.readline())\n",
    "        lst = [int(x) for x in f.readline().split()]\n",
    "    return n, lst\n",
    "\n",
    "def poz(lst, x, i, j):\n",
    "    for idx in range(i, j + 1):\n",
    "        if lst[idx] > x:\n",
    "            return idx\n",
    "    return -1\n",
    "\n",
    "n, lst = citire()\n",
    "print(n, lst)\n",
    "\n",
    "print(poz(lst, 5, 0, len(lst) - 1))\n",
    "lst.sort(reverse = True)\n",
    "for i in range(len(lst)):\n",
    "    if poz(lst,lst[i],i + 1, n - 1) != -1:\n",
    "        print(\"Nu\")\n",
    "        break\n",
    "else:\n",
    "    print('Da')"
   ]
  },
  {
   "cell_type": "code",
   "execution_count": 42,
   "metadata": {},
   "outputs": [
    {
     "name": "stdout",
     "output_type": "stream",
     "text": [
      "5783\n",
      "False\n"
     ]
    }
   ],
   "source": [
    "#Laborator functii\n",
    "\n",
    "def alipire(*args):\n",
    "    s = ''\n",
    "    for x in args:\n",
    "        lx = max(str(x))\n",
    "        s += lx\n",
    "    return s\n",
    "\n",
    "print(alipire(4251, 73, 8, 133))\n",
    "\n",
    "a = 1001\n",
    "b = 17\n",
    "c = 101\n",
    "\n",
    "def check(*args):\n",
    "    for num in args:\n",
    "        if int(alipire(num)) not in [0, 1]:\n",
    "            return False\n",
    "    return True\n",
    "  \n",
    "print(check(a,b,c))"
   ]
  },
  {
   "cell_type": "code",
   "execution_count": 55,
   "metadata": {},
   "outputs": [
    {
     "name": "stdout",
     "output_type": "stream",
     "text": [
      "[0, inf, 1, inf, 1, 1, 2, 2, 2, 2, 2, 3, 3, 3, 3]\n",
      "[5, 5, 4]\n"
     ]
    }
   ],
   "source": [
    "#Monede dinamica\n",
    "v = (5, 4, 2)\n",
    "s = 14\n",
    "pred = [-1] * (s + 1)\n",
    "\n",
    "dp = [0] + [float(\"inf\")] * s\n",
    "for i in range(1, s + 1):\n",
    "    for mon in v:\n",
    "        if mon <= i and dp[i] > 1 + dp[i - mon]:\n",
    "            dp[i] = 1 + dp[i - mon]\n",
    "            pred[i] = mon\n",
    "\n",
    "print(dp)\n",
    "i = s\n",
    "ans = []\n",
    "while i:\n",
    "    ans.append(pred[i])\n",
    "    i -= pred[i]\n",
    "    \n",
    "print(ans)"
   ]
  },
  {
   "cell_type": "code",
   "execution_count": 61,
   "metadata": {},
   "outputs": [
    {
     "name": "stdout",
     "output_type": "stream",
     "text": [
      "[[51], [19, 34], [12, 24, 26], [2, 5, 14, 6]]\n"
     ]
    }
   ],
   "source": [
    "#Triunghiul dinamic\n",
    "m = [[17], [-5, 8], [7, 10, 12], [2, 5, 14, 6]]\n",
    "\n",
    "dp = [[0] * i for i in range(1,len(m) + 1)]\n",
    "for i in range(len(m) - 1, -1, -1):\n",
    "    for j in range(i + 1):\n",
    "        if i == len(m) - 1:\n",
    "            dp[i][j] = m[i][j]\n",
    "        else:\n",
    "            dp[i][j] = m[i][j] + max(dp[i + 1][j], dp[i + 1][j + 1])\n",
    "print(dp)"
   ]
  },
  {
   "cell_type": "code",
   "execution_count": 67,
   "metadata": {},
   "outputs": [
    {
     "name": "stdout",
     "output_type": "stream",
     "text": [
      "[(5, 50, 1), (25, 100, 1), (10, 40, 1), (5, 20, 1), (21, 63, 0.23809523809523808)]\n"
     ]
    }
   ],
   "source": [
    "#Rucsacul prin divide (repetare)\n",
    "ob = [(21,63), (10,10), (10,30), (25,100), (38,19), (7, 14), (5, 50), (10, 40), (5,20)]\n",
    "g = 50\n",
    "ans = []\n",
    "\n",
    "def bfprt(A):\n",
    "    if len(A) <= 5:\n",
    "        return A[len(A) // 2]\n",
    "    subliste = [sorted(A[i:i+5], key = lambda x : x[1]/x[0]) for i in range(0, len(A), 5)]\n",
    "    mediane = [sl[len(sl)//2] for sl in subliste]\n",
    "    return bfprt(mediane)\n",
    "\n",
    "def rucsac(ob, G):\n",
    "    global ans\n",
    "    pivot = bfprt(ob)\n",
    "    \n",
    "    L = [obiect for obiect in ob if obiect[1]/obiect[0] < pivot[1]/pivot[0]]\n",
    "    E = [obiect for obiect in ob if obiect[1]/obiect[0] == pivot[1]/pivot[0]]\n",
    "    H = [obiect for obiect in ob if obiect[1]/obiect[0] > pivot[1]/pivot[0]]\n",
    "    \n",
    "    if sum([obiect[0] for obiect in H]) > G:\n",
    "        return rucsac(H, G)\n",
    "    \n",
    "    else:\n",
    "        ans.extend([(*l, 1) for l in H])\n",
    "        G -= sum([l[0] for l in H])\n",
    "        i = 0\n",
    "        while G and i < len(E):\n",
    "            if G >= E[i][0]:\n",
    "                G -= E[i][0]\n",
    "                ans.append((*E[i], 1))\n",
    "                i += 1\n",
    "            else:\n",
    "                ans.append((*E[i], G / E[i][0]))\n",
    "                G = 0\n",
    "                \n",
    "        if G > 0:\n",
    "            return rucsac(L, G)\n",
    "\n",
    "rucsac(ob, g)\n",
    "print(ans)"
   ]
  },
  {
   "cell_type": "code",
   "execution_count": 71,
   "metadata": {},
   "outputs": [
    {
     "name": "stdout",
     "output_type": "stream",
     "text": [
      "[5, 5, 4, 4, 3, 2, 2, 1, 1] [2, 2, 4, 4, 5, 7, 7, -1, -1]\n",
      "[5, 7, 7, 8, 9]\n"
     ]
    }
   ],
   "source": [
    "#Subsir crescator maximal\n",
    "v = [5,1,7,3,7,8,4,9,2]\n",
    "\n",
    "dp = [1] * len(v)\n",
    "succ = [-1] * len(v)\n",
    "\n",
    "for i in range(len(v) - 2, -1, -1):\n",
    "    for j in range(i + 1, len(v) - 1):\n",
    "        if v[i] <= v[j]:\n",
    "            succ[i] = j\n",
    "            dp[i] = 1 + dp[j]\n",
    "            break\n",
    "            \n",
    "print(dp, succ)\n",
    "\n",
    "i = 0\n",
    "ans = []\n",
    "while i != -1:\n",
    "    ans.append(v[i])\n",
    "    i = succ[i]\n",
    "\n",
    "print(ans)"
   ]
  },
  {
   "cell_type": "code",
   "execution_count": 76,
   "metadata": {},
   "outputs": [
    {
     "name": "stdout",
     "output_type": "stream",
     "text": [
      "[[True, False, False, False, False, False, False, False, False, False, False, False], [True, False, False, False, False, True, False, False, False, False, False, False], [True, False, False, True, False, True, False, False, True, False, False, False], [True, False, False, True, False, True, False, False, True, False, True, False], [True, False, False, True, True, True, False, True, True, True, True, False], [True, False, False, True, True, True, False, True, True, True, True, False]]\n"
     ]
    }
   ],
   "source": [
    "#Suma apropiata\n",
    "A = [5,3,5,4,5]\n",
    "s = sum(A) // 2\n",
    "\n",
    "dp = [[False] * (s + 1) for i in range(len(A) + 1)]\n",
    "for i in range(len(A) + 1):\n",
    "    dp[i][0] = True\n",
    "    \n",
    "for i in range(1, len(A) + 1):\n",
    "    for j in range(1, s + 1):\n",
    "        if j < A[i - 1]:\n",
    "            dp[i][j] = dp[i - 1][j]\n",
    "        else:\n",
    "            dp[i][j] = dp[i - 1][j] or dp[i - 1][j - A[i - 1]]\n",
    "\n",
    "print(dp)\n"
   ]
  },
  {
   "cell_type": "code",
   "execution_count": null,
   "metadata": {},
   "outputs": [],
   "source": []
  }
 ],
 "metadata": {
  "kernelspec": {
   "display_name": "Python 3",
   "language": "python",
   "name": "python3"
  },
  "language_info": {
   "codemirror_mode": {
    "name": "ipython",
    "version": 3
   },
   "file_extension": ".py",
   "mimetype": "text/x-python",
   "name": "python",
   "nbconvert_exporter": "python",
   "pygments_lexer": "ipython3",
   "version": "3.7.1"
  }
 },
 "nbformat": 4,
 "nbformat_minor": 2
}
