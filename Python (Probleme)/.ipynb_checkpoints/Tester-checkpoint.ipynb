{
 "cells": [
  {
   "cell_type": "code",
   "execution_count": 24,
   "metadata": {},
   "outputs": [
    {
     "name": "stdout",
     "output_type": "stream",
     "text": [
      "Suma s-a obtinut cu 2 monede\n",
      "[7, 7]\n"
     ]
    }
   ],
   "source": [
    "#Monede\n",
    "s = 14\n",
    "v = (5, 7, 3)\n",
    "nrmin = [float(\"inf\")] * (s + 1);\n",
    "nrmin[0] = 0;\n",
    "pred = [-1] * (s + 1);\n",
    "\n",
    "for i in range(1,s + 1):\n",
    "    for m in v:\n",
    "        if m <= i and 1 + nrmin[i - m] < nrmin[i]:\n",
    "            nrmin[i] = 1 + nrmin[i - m]\n",
    "            pred[i] = m\n",
    "            \n",
    "if pred[s] != -1:\n",
    "    print(f\"Suma s-a obtinut cu {nrmin[s]} monede\")\n",
    "else:\n",
    "    print(\"Nu s-a putut obtine suma din aceste monede\")\n",
    "    \n",
    "ans = []\n",
    "while s:\n",
    "    ans.append(pred[s])\n",
    "    s -= pred[s]\n",
    "    \n",
    "print(ans)"
   ]
  },
  {
   "cell_type": "code",
   "execution_count": 10,
   "metadata": {},
   "outputs": [
    {
     "name": "stdout",
     "output_type": "stream",
     "text": [
      "5\n",
      "[5, 7, 7, 8, 9]\n"
     ]
    }
   ],
   "source": [
    "#Subșirul crescator maximal\n",
    "\n",
    "v = [5,1,7,3,7,8,4,9,2]\n",
    "#ans = (1,7,7,8,9)\n",
    "\n",
    "dp = [1] * len(v) \n",
    "succ = [-1] * len(v)\n",
    "dp[len(v) - 1] = 1\n",
    "\n",
    "for i in range(len(v) - 2, -1, -1):\n",
    "    for j in range(i + 1, len(v)):\n",
    "        if v[i] <= v[j] and 1 + dp[j] > dp[i]:\n",
    "            dp[i] = 1 + dp[j]\n",
    "            succ[i] = j\n",
    "        \n",
    "print(max(dp))\n",
    "\n",
    "ans = []\n",
    "curr = dp.index(max(dp))\n",
    "while curr != -1:\n",
    "    ans.append(v[curr])\n",
    "    curr = succ[curr]\n",
    "print(ans)"
   ]
  },
  {
   "cell_type": "code",
   "execution_count": 20,
   "metadata": {},
   "outputs": [
    {
     "name": "stdout",
     "output_type": "stream",
     "text": [
      "Lungimea este 3\n",
      "USI\n"
     ]
    }
   ],
   "source": [
    "#Subsir comun maximal\n",
    "\n",
    "s = \"SUBSIR\"\n",
    "t = \"RUSTICE\"\n",
    "\n",
    "dp = [[0] * (len(t) + 1) for i in range(len(s) + 1)]\n",
    "\n",
    "for i in range(1, len(s) + 1):\n",
    "    for j in range(1, len(t) + 1):\n",
    "        if s[i - 1] == t[j - 1]:\n",
    "            dp[i][j] = dp[i - 1][j - 1] + 1\n",
    "        else:\n",
    "            dp[i][j] = max(dp[i - 1][j], dp[i][j - 1])\n",
    "    \n",
    "print(f\"Lungimea este {dp[len(s)][len(t)]}\")\n",
    "subs = ''\n",
    "curr = dp[len(s)][len(t)]\n",
    "i = len(s)\n",
    "j = len(t)\n",
    "while curr:\n",
    "    if dp[i][j] == dp[i-1][j-1]:\n",
    "        i -= 1\n",
    "        j -= 1\n",
    "    elif dp[i][j] == dp[i][j - 1]:\n",
    "        j -= 1\n",
    "    elif dp[i][j] == dp[i-1][j]:\n",
    "        i -= 1\n",
    "    else:\n",
    "        subs += s[i - 1]\n",
    "        j -= 1\n",
    "        curr -= 1\n",
    "\n",
    "print(subs[::-1])\n",
    "        "
   ]
  },
  {
   "cell_type": "code",
   "execution_count": 23,
   "metadata": {},
   "outputs": [
    {
     "name": "stdout",
     "output_type": "stream",
     "text": [
      "2\n",
      "3\n",
      "4\n",
      "5\n",
      "6\n",
      "7\n",
      "8\n"
     ]
    },
    {
     "ename": "IndexError",
     "evalue": "list index out of range",
     "output_type": "error",
     "traceback": [
      "\u001b[1;31m---------------------------------------------------------------------------\u001b[0m",
      "\u001b[1;31mIndexError\u001b[0m                                Traceback (most recent call last)",
      "\u001b[1;32m<ipython-input-23-88505d206eef>\u001b[0m in \u001b[0;36m<module>\u001b[1;34m\u001b[0m\n\u001b[0;32m      7\u001b[0m \u001b[0mrez\u001b[0m \u001b[1;33m=\u001b[0m \u001b[1;36m1\u001b[0m\u001b[1;33m\u001b[0m\u001b[1;33m\u001b[0m\u001b[0m\n\u001b[0;32m      8\u001b[0m \u001b[1;32mwhile\u001b[0m \u001b[0mmaxCufar\u001b[0m \u001b[1;33m<\u001b[0m \u001b[0mn\u001b[0m \u001b[1;33m-\u001b[0m \u001b[1;36m1\u001b[0m\u001b[1;33m:\u001b[0m\u001b[1;33m\u001b[0m\u001b[1;33m\u001b[0m\u001b[0m\n\u001b[1;32m----> 9\u001b[1;33m     \u001b[0mmaxCurrent\u001b[0m \u001b[1;33m=\u001b[0m \u001b[0mmax\u001b[0m\u001b[1;33m(\u001b[0m\u001b[0mmaxCurrent\u001b[0m\u001b[1;33m,\u001b[0m \u001b[0mi\u001b[0m \u001b[1;33m+\u001b[0m \u001b[0mv\u001b[0m\u001b[1;33m[\u001b[0m\u001b[0mi\u001b[0m\u001b[1;33m]\u001b[0m\u001b[1;33m)\u001b[0m\u001b[1;33m\u001b[0m\u001b[1;33m\u001b[0m\u001b[0m\n\u001b[0m\u001b[0;32m     10\u001b[0m     \u001b[1;32mif\u001b[0m \u001b[0mi\u001b[0m \u001b[1;33m==\u001b[0m \u001b[0mmaxCurrent\u001b[0m\u001b[1;33m:\u001b[0m\u001b[1;33m\u001b[0m\u001b[1;33m\u001b[0m\u001b[0m\n\u001b[0;32m     11\u001b[0m         \u001b[0mrez\u001b[0m \u001b[1;33m+=\u001b[0m \u001b[1;36m1\u001b[0m\u001b[1;33m\u001b[0m\u001b[1;33m\u001b[0m\u001b[0m\n",
      "\u001b[1;31mIndexError\u001b[0m: list index out of range"
     ]
    }
   ],
   "source": [
    "#test\n",
    "v = [2,3,1,5,3,2,2,5]\n",
    "maxCufar = v[0]\n",
    "maxCurrent = 0\n",
    "n = len(v)\n",
    "i = 1\n",
    "rez = 1\n",
    "while maxCufar < n - 1:\n",
    "    maxCurrent = max(maxCurrent, i + v[i])\n",
    "    if i == maxCurrent:\n",
    "        rez += 1\n",
    "        maxCufar = maxCurrent\n",
    "        maxCurrent = 0 \n",
    "    i += 1\n",
    "print(rez + 1)"
   ]
  },
  {
   "cell_type": "code",
   "execution_count": 33,
   "metadata": {},
   "outputs": [
    {
     "name": "stdout",
     "output_type": "stream",
     "text": [
      "385\n",
      "[(4, 45), (3, 300), (2, 40)]\n"
     ]
    }
   ],
   "source": [
    "#Rucsacul discret\n",
    "ob = [(2,40), (3,300), (15,3000), (4,45), (8,160)]\n",
    "g = 10\n",
    "\n",
    "dp = [[0] * (g + 1) for i in range(len(ob) + 1)]\n",
    "for i in range(1,len(ob) + 1):\n",
    "    for j in range(1, g + 1):\n",
    "        if j < ob[i - 1][0]:\n",
    "            dp[i][j] = dp[i - 1][j]\n",
    "        else:\n",
    "            dp[i][j] = max(dp[i - 1][j], ob[i - 1][1] + dp[i - 1][j - ob[i - 1][0]])\n",
    "        \n",
    "print(dp[len(ob)][g])\n",
    "\n",
    "i = len(ob)\n",
    "j = g\n",
    "curr = dp[i][j]\n",
    "sol = []\n",
    "while i != 0 and j != 0:\n",
    "    if dp[i][j] == dp[i - 1][j - 1]:\n",
    "        i -= 1\n",
    "        j -= 1\n",
    "    elif dp[i][j] == dp[i - 1][j]:\n",
    "        i -= 1\n",
    "    elif dp[i][j] == dp[i][j - 1]:\n",
    "        j -= 1\n",
    "    else:\n",
    "        sol.append(ob[i - 1])\n",
    "        j -= ob[i - 1][0]\n",
    "        i -= 1\n",
    "\n",
    "print(sol)"
   ]
  },
  {
   "cell_type": "code",
   "execution_count": 45,
   "metadata": {},
   "outputs": [
    {
     "name": "stdout",
     "output_type": "stream",
     "text": [
      "[(5, 50, 1), (25, 100, 1), (10, 40, 1), (5, 20, 1), (21, 63, 0.23809523809523808)]\n",
      "225.0\n"
     ]
    }
   ],
   "source": [
    "#Rucsacul cu divide et impera\n",
    "ob = [(21,63), (10,10), (10,30), (25,100), (38,19), (7, 14), (5, 50), (10, 40), (5,20)]\n",
    "g = 50\n",
    "solutie = []\n",
    "\n",
    "def pivot(l):\n",
    "    if len(l) <= 5:\n",
    "        return l[len(l)//2]\n",
    "    subliste = [sorted(l[i:i+5], key = lambda x: x[1]/x[0]) for i in range(0, len(l), 5)]\n",
    "    mediane = [sb[len(sb)//2] for sb in subliste]\n",
    "    return pivot(mediane)\n",
    "\n",
    "def rucsac(ob, G, solutie):\n",
    "    p = pivot(ob)\n",
    "\n",
    "    L = [l for l in ob if l[1]/l[0] < p[1]/p[0]]\n",
    "    E = [l for l in ob if l[1]/l[0] == p[1]/p[0]]\n",
    "    H = [l for l in ob if l[1]/l[0] > p[1]/p[0]]\n",
    "    \n",
    "    if sum([l[0] for l in H]) > G:\n",
    "        return rucsac(H, G, solutie)\n",
    "    else:\n",
    "        solutie.extend([(*l, 1) for l in H])\n",
    "        G -= sum([l[0] for l in H])\n",
    "        i = 0\n",
    "        while G > 0 and i < len(E):\n",
    "            if E[i][0] <= G:\n",
    "                solutie.append((*E[i], 1))\n",
    "                G -= E[i][0]\n",
    "                i += 1\n",
    "            else:\n",
    "                solutie.append((*E[i], G / E[i][0]))\n",
    "                G = 0\n",
    "        if G > 0:\n",
    "            return rucsac(L, G, solutie)\n",
    "\n",
    "rucsac(ob, g, solutie)\n",
    "print(solutie)\n",
    "print(sum([l[1] * l[2] for l in solutie]))"
   ]
  },
  {
   "cell_type": "code",
   "execution_count": 48,
   "metadata": {},
   "outputs": [
    {
     "name": "stdout",
     "output_type": "stream",
     "text": [
      "[-2, -1, 0, 1, 2, 2, 2, 4, 5, 7, 9, 12, 23, 32, 32, 65]\n"
     ]
    }
   ],
   "source": [
    "#Mergesort\n",
    "\n",
    "def Interclasare(lst, ldr):\n",
    "    ans = []\n",
    "    i = j = 0\n",
    "    \n",
    "    while i < len(lst) and j < len(ldr):\n",
    "        if lst[i] < ldr[j]:\n",
    "            ans.append(lst[i])\n",
    "            i += 1\n",
    "        else:\n",
    "            ans.append(ldr[j])\n",
    "            j += 1\n",
    "    ans.extend(lst[i:])\n",
    "    ans.extend(ldr[j:])\n",
    "    return ans\n",
    "\n",
    "def Mergesort(l):\n",
    "    if len(l) <= 1:\n",
    "        return l\n",
    "    mid = len(l) // 2\n",
    "    lst = Mergesort(l[:mid])\n",
    "    ldr = Mergesort(l[mid:])\n",
    "    return Interclasare(lst,ldr)\n",
    "\n",
    "l = [-1, 32, 2, 1, 4,7,2, 23,12,65,32,-2,0,9, 2,5]\n",
    "print(Mergesort(l))"
   ]
  },
  {
   "cell_type": "code",
   "execution_count": 86,
   "metadata": {},
   "outputs": [
    {
     "name": "stdout",
     "output_type": "stream",
     "text": [
      "2 4 1 3\n",
      "3 1 4 2\n"
     ]
    }
   ],
   "source": [
    "#Problema reginelor\n",
    "def bkt_regine(k):\n",
    "    global x, n\n",
    "    for v in range (1, n+1):\n",
    "        x[k] = v\n",
    "        for i in range(k):\n",
    "            if x[k] == x[i] or abs(x[k]-x[i]) == abs(k-i):\n",
    "                break\n",
    "        else:\n",
    "            if k == n-1:\n",
    "                print(*x)\n",
    "            else:\n",
    "                bkt_regine(k+1)\n",
    "                        \n",
    "n = 4\n",
    "x = [0] * n\n",
    "bkt_regine(0)"
   ]
  },
  {
   "cell_type": "code",
   "execution_count": 109,
   "metadata": {},
   "outputs": [
    {
     "name": "stdout",
     "output_type": "stream",
     "text": [
      "[(1, 3, 250), (2, 6, 650), (4, 12, 800), (7, 13, 850), (4, 16, 200), (13, 18, 1000), (15, 22, 900), (25, 27, 300)]\n",
      "[0, 250, 650, 1050, 1500, 1500, 2500, 2500, 2800]\n",
      "[(25, 27, 300), (13, 18, 1000), (7, 13, 850), (2, 6, 650)]\n"
     ]
    }
   ],
   "source": [
    "#Problema proiectelor cu profit maxim\n",
    "proiecte = [(4,12,800), (25,27,300), (1,3,250), (15,22,900), (7,13,850), (13,18,1000), (2,6,650), (4,16,200)]\n",
    "proiecte.sort(key = lambda x: x[1])\n",
    "print(proiecte)\n",
    "\n",
    "dp = [0] * (len(proiecte) + 1)\n",
    "ult = [0] * (len(proiecte) + 1)\n",
    "\n",
    "for i in range(1, len(proiecte) + 1):\n",
    "    for j in range(i - 1):\n",
    "        if proiecte[i - 1][0] >= proiecte[j][1]:\n",
    "            ult[i] = max(ult[i], j + 1)\n",
    "    dp[i] = max(dp[i - 1], proiecte[i - 1][2] + dp[ult[i]])\n",
    "            \n",
    "print(dp)\n",
    "\n",
    "i = len(proiecte)\n",
    "ans = []\n",
    "while i:\n",
    "    if dp[i] == dp[i - 1]:\n",
    "        i -= 1\n",
    "    elif dp[i] > dp[ult[i]]:\n",
    "        ans.append(proiecte[i - 1])\n",
    "        i = ult[i]\n",
    "        \n",
    "print(ans)"
   ]
  },
  {
   "cell_type": "code",
   "execution_count": 127,
   "metadata": {},
   "outputs": [
    {
     "name": "stdout",
     "output_type": "stream",
     "text": [
      "[0, 0, 1, 1, 1, 1, 1, 1, 1, 1]\n",
      "[1, 2, 3, 4, 5, 6, 7, 8, 9]\n"
     ]
    }
   ],
   "source": [
    "#Sortare topologica\n",
    "n = 9\n",
    "graf = {1:[2,3], 3:[4, 5], 4:[6,7,8], 5:[9]}\n",
    "#graf = {1:[2,3], 2:[4], 3:[4], 4:[5]}\n",
    "\n",
    "pred = [0] * (n + 1)\n",
    "for key in graf.keys():\n",
    "    for nod in graf[key]:\n",
    "        pred[nod] += 1\n",
    "print(pred)\n",
    "\n",
    "zero = []\n",
    "for i in range(1,len(pred)):\n",
    "    if pred[i] == 0:\n",
    "        zero.append(i)\n",
    "\n",
    "q = []\n",
    "ordered = []\n",
    "for num in zero:\n",
    "    q.append(num)\n",
    "    ordered.append(num)\n",
    "    while q != []:\n",
    "        curr = q.pop(0)\n",
    "        if curr in graf.keys():\n",
    "            for nod in graf[curr]:\n",
    "                if nod not in q:\n",
    "                    q.append(nod)\n",
    "                pred[nod] -= 1\n",
    "                if pred[nod] == 0:\n",
    "                    ordered.append(nod)\n",
    "                \n",
    "print(ordered)\n",
    "        "
   ]
  },
  {
   "cell_type": "code",
   "execution_count": 130,
   "metadata": {},
   "outputs": [
    {
     "name": "stdout",
     "output_type": "stream",
     "text": [
      "1 2 3 4\n",
      "1 2 4 3\n",
      "1 3 2 4\n",
      "1 3 4 2\n",
      "1 4 2 3\n",
      "1 4 3 2\n",
      "2 1 3 4\n",
      "2 1 4 3\n",
      "2 3 1 4\n",
      "2 3 4 1\n",
      "2 4 1 3\n",
      "2 4 3 1\n",
      "3 1 2 4\n",
      "3 1 4 2\n",
      "3 2 1 4\n",
      "3 2 4 1\n",
      "3 4 1 2\n",
      "3 4 2 1\n",
      "4 1 2 3\n",
      "4 1 3 2\n",
      "4 2 1 3\n",
      "4 2 3 1\n",
      "4 3 1 2\n",
      "4 3 2 1\n"
     ]
    }
   ],
   "source": [
    "#Permutari\n",
    "def permutari(k):\n",
    "    global p, n\n",
    "    for i in range(1, n + 1):\n",
    "        p[k - 1] = i\n",
    "        if p[k - 1] not in p[:k - 1]:\n",
    "            if k == n:\n",
    "                print(*p)\n",
    "            else:\n",
    "                permutari(k + 1)\n",
    "    \n",
    "n = 4\n",
    "p = [0] * n\n",
    "permutari(1)"
   ]
  },
  {
   "cell_type": "code",
   "execution_count": 134,
   "metadata": {},
   "outputs": [
    {
     "name": "stdout",
     "output_type": "stream",
     "text": [
      "1 2 3\n",
      "1 2 4\n",
      "1 3 2\n",
      "1 3 4\n",
      "1 4 2\n",
      "1 4 3\n",
      "2 1 3\n",
      "2 1 4\n",
      "2 3 1\n",
      "2 3 4\n",
      "2 4 1\n",
      "2 4 3\n",
      "3 1 2\n",
      "3 1 4\n",
      "3 2 1\n",
      "3 2 4\n",
      "3 4 1\n",
      "3 4 2\n",
      "4 1 2\n",
      "4 1 3\n",
      "4 2 1\n",
      "4 2 3\n",
      "4 3 1\n",
      "4 3 2\n"
     ]
    }
   ],
   "source": [
    "#Aranjamente\n",
    "def aranjamente(k):\n",
    "    global a, n, m\n",
    "    for i in range(1, n + 1):\n",
    "        a[k - 1] = i\n",
    "        if a[k - 1] not in a[:k - 1]:\n",
    "            if k == m:\n",
    "                print(*a)\n",
    "            else:\n",
    "                aranjamente(k + 1)\n",
    "\n",
    "n = 4\n",
    "m = 3\n",
    "a = [0] * m\n",
    "aranjamente(1)"
   ]
  },
  {
   "cell_type": "code",
   "execution_count": 139,
   "metadata": {},
   "outputs": [
    {
     "name": "stdout",
     "output_type": "stream",
     "text": [
      "1 2 3\n",
      "1 2 4\n",
      "1 2 5\n",
      "1 3 4\n",
      "1 3 5\n",
      "1 4 5\n",
      "2 3 4\n",
      "2 3 5\n",
      "2 4 5\n",
      "3 4 5\n"
     ]
    }
   ],
   "source": [
    "#Combinari\n",
    "def combinari(k):\n",
    "    global c, n, m\n",
    "    for i in range((1 if k == 1 else c[k - 2] + 1), n + 1):\n",
    "        c[k - 1] = i\n",
    "        if k == m:\n",
    "            print(*c)\n",
    "        else:\n",
    "            combinari(k + 1)\n",
    "\n",
    "\n",
    "n = 5\n",
    "m = 3\n",
    "c = [0] * m\n",
    "combinari(1)"
   ]
  },
  {
   "cell_type": "code",
   "execution_count": 148,
   "metadata": {},
   "outputs": [
    {
     "name": "stdout",
     "output_type": "stream",
     "text": [
      "2 4 1 3\n",
      "3 1 4 2\n"
     ]
    }
   ],
   "source": [
    "#Problema damelor (again)\n",
    "def dame(k):\n",
    "    global n, d\n",
    "    for i in range(1, n + 1):\n",
    "        d[k] = i\n",
    "        for j in range(1, k):\n",
    "            if d[j] == d[k] or abs(d[j] - d[k]) == abs(j - k):\n",
    "                break\n",
    "        else:\n",
    "            if k == n:\n",
    "                print(*d[1:n + 1])\n",
    "            else:\n",
    "                dame(k + 1)\n",
    "    \n",
    "n = 4\n",
    "d = [0] * (n + 1)\n",
    "dame(1)"
   ]
  },
  {
   "cell_type": "code",
   "execution_count": 170,
   "metadata": {},
   "outputs": [
    {
     "name": "stdout",
     "output_type": "stream",
     "text": [
      "1 1 1 1\n",
      "1 1 2\n",
      "1 3\n",
      "2 2\n",
      "4\n"
     ]
    }
   ],
   "source": [
    "#Descompunerea in suma\n",
    "def suma(k):\n",
    "    global desc, s\n",
    "    for i in range(desc[k - 1], s - sum(desc[1:k]) + 1):\n",
    "        desc[k] = i\n",
    "        if sum(desc[1:k + 1]) <= s:\n",
    "            if sum(desc[1:k + 1]) == s:\n",
    "                print(*desc[1:k+1])\n",
    "            else:\n",
    "                suma(k + 1)\n",
    "    \n",
    "    \n",
    "s = 4\n",
    "desc = [0] * (s + 1)\n",
    "desc[0] = 1\n",
    "suma(1)"
   ]
  },
  {
   "cell_type": "code",
   "execution_count": 192,
   "metadata": {},
   "outputs": [
    {
     "name": "stdout",
     "output_type": "stream",
     "text": [
      "102\n",
      "12\n",
      "120\n",
      "201\n",
      "21\n",
      "210\n",
      "3\n",
      "30\n"
     ]
    }
   ],
   "source": [
    "#Numere cu suma n\n",
    "def suma(k):\n",
    "    global n, sol\n",
    "    for i in (range(1,10) if k == 1 else range(0,10)):\n",
    "        sol.append(i)\n",
    "        if i not in sol[1:k] and sum(sol[1:]) <= n:\n",
    "            if sum(sol[1:k+1]) == n:\n",
    "                print(''.join([str(x) for x in sol[1:]]))\n",
    "                if 0 not in sol[1:]:\n",
    "                    print(''.join([str(x) for x in sol[1:k+1] + [0]]))\n",
    "            else:\n",
    "                suma(k + 1)\n",
    "        sol.pop()\n",
    "        \n",
    "n = 3\n",
    "sol = [0] \n",
    "suma(1)"
   ]
  },
  {
   "cell_type": "code",
   "execution_count": 210,
   "metadata": {},
   "outputs": [
    {
     "name": "stdout",
     "output_type": "stream",
     "text": [
      "4\n",
      "[0, 1, 2, 2, 2, 3, 3, 4, 4, 4, 5, 6, 7, 7, 7, 7, 8, 8, 9]\n",
      "0\n"
     ]
    }
   ],
   "source": [
    "#BFPRT\n",
    "\n",
    "def bfprt(A):\n",
    "    if len(A) <= 5:\n",
    "        return A[len(A)//2]\n",
    "    subliste = [sorted(A[i:i+5]) for i in range(0, len(A), 5)]\n",
    "    mediane = [sl[len(sl)//2] for sl in subliste]\n",
    "    return bfprt(mediane)\n",
    "\n",
    "A = [1, 4,2,5,2,7,8,8,4,2,7,3,0,6,4,7,3,7,9]\n",
    "print(bfprt(A))\n",
    "print(sorted(A))\n",
    "\n",
    "def quickselect(A, k):\n",
    "    p = bfprt(A)\n",
    "    \n",
    "    L = [x for x in A if x < p]\n",
    "    E = [x for x in A if x == p]\n",
    "    H = [x for x in A if x > p]\n",
    "    \n",
    "    if k < len(L):\n",
    "        return quickselect(L, k)\n",
    "    elif k < len(L) + len(E):\n",
    "        return E[0]\n",
    "    else:\n",
    "        return quickselect(H, k - len(L) - len(E))\n",
    "    \n",
    "print(quickselect(A, 0))  "
   ]
  },
  {
   "cell_type": "code",
   "execution_count": null,
   "metadata": {},
   "outputs": [],
   "source": []
  }
 ],
 "metadata": {
  "kernelspec": {
   "display_name": "Python 3",
   "language": "python",
   "name": "python3"
  },
  "language_info": {
   "codemirror_mode": {
    "name": "ipython",
    "version": 3
   },
   "file_extension": ".py",
   "mimetype": "text/x-python",
   "name": "python",
   "nbconvert_exporter": "python",
   "pygments_lexer": "ipython3",
   "version": "3.7.1"
  }
 },
 "nbformat": 4,
 "nbformat_minor": 2
}
