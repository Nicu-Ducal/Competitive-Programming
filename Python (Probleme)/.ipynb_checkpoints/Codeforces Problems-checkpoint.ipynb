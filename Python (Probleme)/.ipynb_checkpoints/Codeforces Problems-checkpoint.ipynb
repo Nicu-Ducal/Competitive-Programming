{
 "cells": [
  {
   "cell_type": "code",
   "execution_count": 107,
   "metadata": {},
   "outputs": [
    {
     "name": "stdout",
     "output_type": "stream",
     "text": [
      "3 3\n",
      "1 2 3\n",
      "5 6 1\n",
      "4 4 1\n",
      "1\n",
      "[[1, None, None], [1, None, None], [1, None, None]]\n",
      "0\n",
      "[[1, 0, None], [1, 0, None], [1, 0, None]]\n",
      "0\n",
      "[[1, 0, 0], [1, 0, 0], [1, 0, 0]]\n",
      "0\n",
      "[[0, 0, 0], [0, 0, 0], [0, 0, 0]]\n",
      "1\n",
      "[[0, 1, 0], [0, 1, 0], [0, 1, 0]]\n",
      "1\n",
      "[[0, 1, 1], [0, 1, 1], [0, 1, 1]]\n",
      "1\n",
      "[[1, 1, 1], [1, 1, 1], [1, 1, 1]]\n",
      "1\n",
      "[[1, 1, 1], [1, 1, 1], [1, 1, 1]]\n",
      "1\n",
      "[[1, 1, 1], [1, 1, 1], [1, 1, 1]]\n",
      "3\n"
     ]
    }
   ],
   "source": [
    "def isPrime(n):\n",
    "    if n == 2:\n",
    "        return True\n",
    "    if n % 2 == 0 or n == 1 or n == 0 or n < 0:\n",
    "        return False\n",
    "    for i in range(3, int((n ** 0.5)) + 1, 2):\n",
    "        if n % i == 0:\n",
    "            return False\n",
    "    return True\n",
    "\n",
    "n, m = map(int, input().split())\n",
    "l = []\n",
    "for i in range(n):\n",
    "    l.append([int(x) for x in input().split()])\n",
    "\n",
    "mtxsum = [[None] * m] * n\n",
    "\n",
    "for i in range(n):\n",
    "    for j in range(m):\n",
    "        init = l[i][j]\n",
    "        if not isPrime(l[i][j]):\n",
    "            while isPrime(l[i][j]) != True:\n",
    "                if l[i][j] == 1:\n",
    "                    l[i][j] += 1\n",
    "                elif l[i][j] % 2 == 0:\n",
    "                    l[i][j] += 1\n",
    "                else:\n",
    "                    l[i][j] += 2\n",
    "        mtxsum[i][j] = (l[i][j] - init)\n",
    "        print(mtxsum[i][j])\n",
    "        print(mtxsum)    \n",
    "\n",
    "s = 10000000000\n",
    "for i in range(n):\n",
    "    if s > sum(mtxsum[i]):\n",
    "        s = sum(mtxsum[i])\n",
    "    \n",
    "for j in range(m):\n",
    "    temp = 0\n",
    "    for i in range(n):\n",
    "        temp += mtxsum[i][j]\n",
    "    if s > temp:\n",
    "        s = temp\n",
    "\n",
    "print(s)"
   ]
  },
  {
   "cell_type": "code",
   "execution_count": null,
   "metadata": {},
   "outputs": [],
   "source": []
  }
 ],
 "metadata": {
  "kernelspec": {
   "display_name": "Python 3",
   "language": "python",
   "name": "python3"
  },
  "language_info": {
   "codemirror_mode": {
    "name": "ipython",
    "version": 3
   },
   "file_extension": ".py",
   "mimetype": "text/x-python",
   "name": "python",
   "nbconvert_exporter": "python",
   "pygments_lexer": "ipython3",
   "version": "3.7.1"
  }
 },
 "nbformat": 4,
 "nbformat_minor": 2
}
