{
 "cells": [
  {
   "cell_type": "code",
   "execution_count": 13,
   "metadata": {},
   "outputs": [
    {
     "name": "stdout",
     "output_type": "stream",
     "text": [
      "6\n",
      "4 1 7 5 1 3\t\n",
      "[1, 1, 3, 4, 5, 7]\n"
     ]
    }
   ],
   "source": [
    "def interclasare(lst, ldr):\n",
    "    rsp = []\n",
    "    i = j = 0\n",
    "    while (i < len(lst) and j < len(ldr)):\n",
    "        if (lst[i] <= ldr[j]):\n",
    "            rsp.append(lst[i])\n",
    "            i += 1\n",
    "        else:\n",
    "            rsp.append(ldr[j])\n",
    "            j += 1\n",
    "    rsp.extend(lst[i:])\n",
    "    rsp.extend(ldr[j:])\n",
    "    return rsp\n",
    "    \n",
    "def MergeSort(l):\n",
    "    if len(l) <= 1:\n",
    "        return l\n",
    "    else:\n",
    "        mid = len(l) // 2\n",
    "        lst = MergeSort(l[:mid])\n",
    "        ldr = MergeSort(l[mid:])\n",
    "        return interclasare(lst, ldr)\n",
    "    \n",
    "\n",
    "#f = open('merge-sort.in')\n",
    "#n = f.readline()\n",
    "#l = [int(x) for x in f.readline().split()]\n",
    "#f.close()\n",
    "\n",
    "n = int(input())\n",
    "l = [int(x) for x in input().split()]    \n",
    "\n",
    "l = MergeSort(l)\n",
    "\n",
    "print(l)"
   ]
  },
  {
   "cell_type": "code",
   "execution_count": null,
   "metadata": {},
   "outputs": [],
   "source": []
  }
 ],
 "metadata": {
  "kernelspec": {
   "display_name": "Python 3",
   "language": "python",
   "name": "python3"
  },
  "language_info": {
   "codemirror_mode": {
    "name": "ipython",
    "version": 3
   },
   "file_extension": ".py",
   "mimetype": "text/x-python",
   "name": "python",
   "nbconvert_exporter": "python",
   "pygments_lexer": "ipython3",
   "version": "3.7.1"
  }
 },
 "nbformat": 4,
 "nbformat_minor": 2
}
