{
 "cells": [
  {
   "cell_type": "code",
   "execution_count": 10,
   "metadata": {},
   "outputs": [],
   "source": [
    "f = open('int.in')\n",
    "n = int(f.readline())\n",
    "l = []\n",
    "for i in range(n):\n",
    "    a,b = map(int, f.readline().split())\n",
    "    l.append((a,b))\n",
    "f.close()\n",
    "\n",
    "l.sort(key = lambda x: x[1])\n",
    "\n",
    "rsp = []\n",
    "rsp.append(l[0])\n",
    "for tup in l[1:]:\n",
    "    if tup[0] >= rsp[-1][1]:\n",
    "        rsp.append(tup)\n",
    "\n",
    "f = open('int.out',\"w\")\n",
    "#for tup in rsp:\n",
    "   # f.write(str(tup[0]) + \" \" + str(tup[1]) + \"\\n\")\n",
    "f.write(str(len(rsp)))\n",
    "f.close()"
   ]
  },
  {
   "cell_type": "code",
   "execution_count": null,
   "metadata": {},
   "outputs": [],
   "source": []
  }
 ],
 "metadata": {
  "kernelspec": {
   "display_name": "Python 3",
   "language": "python",
   "name": "python3"
  },
  "language_info": {
   "codemirror_mode": {
    "name": "ipython",
    "version": 3
   },
   "file_extension": ".py",
   "mimetype": "text/x-python",
   "name": "python",
   "nbconvert_exporter": "python",
   "pygments_lexer": "ipython3",
   "version": "3.7.1"
  }
 },
 "nbformat": 4,
 "nbformat_minor": 2
}
