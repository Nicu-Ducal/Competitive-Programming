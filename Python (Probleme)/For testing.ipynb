{
 "cells": [
  {
   "cell_type": "code",
   "execution_count": 41,
   "metadata": {},
   "outputs": [
    {
     "name": "stdout",
     "output_type": "stream",
     "text": [
      "1\n",
      "e\n",
      "NO\n"
     ]
    }
   ],
   "source": [
    "alf = 'abcdefghijklmnopqrstuvwxyz'\n",
    "test = int(input())\n",
    "while test:\n",
    "    test -= 1\n",
    "    s = input()\n",
    "    ix = 1\n",
    "    t = [0]\n",
    "    switch = 1\n",
    "    d = {x:[] for x in set(s)}\n",
    "    d[s[0]].append(0)\n",
    "    for i in range(1, len(s) - 1):\n",
    "        t.append(ix)\n",
    "        if ix not in d[s[i]]:\n",
    "            d[s[i]].append(ix)\n",
    "        if s[i - 1] == s[i + 1]:\n",
    "            switch = -switch\n",
    "        ix = ix + switch\n",
    "    t.append(ix)\n",
    "    if ix not in d[s[len(s) - 1]]:\n",
    "        d[s[len(s) - 1]].append(ix)\n",
    "    for k in d.keys():\n",
    "        if len(d[k]) > 1:\n",
    "            print('NO')\n",
    "            break\n",
    "    else:\n",
    "        print('YES')\n",
    "        tuplist = [(k,v) for k,v in d.items()]\n",
    "        tuplist.sort(key = lambda x: x[1])\n",
    "        string = [x[0] for x in tuplist]\n",
    "        string = ''.join(string)\n",
    "        print(string, end = '')\n",
    "        for letter in alf:\n",
    "            if letter not in string:\n",
    "                print(letter, end = '')\n",
    "        print()"
   ]
  },
  {
   "cell_type": "code",
   "execution_count": null,
   "metadata": {},
   "outputs": [],
   "source": []
  }
 ],
 "metadata": {
  "kernelspec": {
   "display_name": "Python 3",
   "language": "python",
   "name": "python3"
  },
  "language_info": {
   "codemirror_mode": {
    "name": "ipython",
    "version": 3
   },
   "file_extension": ".py",
   "mimetype": "text/x-python",
   "name": "python",
   "nbconvert_exporter": "python",
   "pygments_lexer": "ipython3",
   "version": "3.7.1"
  }
 },
 "nbformat": 4,
 "nbformat_minor": 2
}
