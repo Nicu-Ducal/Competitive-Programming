{
 "cells": [
  {
   "cell_type": "code",
   "execution_count": 5,
   "metadata": {},
   "outputs": [
    {
     "name": "stdout",
     "output_type": "stream",
     "text": [
      "11\n",
      "6\n"
     ]
    }
   ],
   "source": [
    "#bfprt\n",
    "l = [1, 10, 4, 13, 7, 6, 11, 14]\n",
    "k = 3\n",
    "\n",
    "def bfprt(A):\n",
    "    if len(A) <= 5:\n",
    "        return A[len(A) // 2]\n",
    "    subliste = [sorted(A[i:i+5]) for i in range(0, len(A), 5)]\n",
    "    mediane = [sl[len(sl) // 2] for sl in subliste]\n",
    "    return bfprt(mediane)\n",
    "\n",
    "print(bfprt(l))\n",
    "\n",
    "def quickselect(A, k):\n",
    "    p = bfprt(A)\n",
    "    \n",
    "    L = [x for x in A if x < p]\n",
    "    E = [x for x in A if x == p]\n",
    "    H = [x for x in A if x > p]\n",
    "    \n",
    "    if (k - 1) < len(L):\n",
    "        return quickselect(L, k)\n",
    "    elif (k - 1) < len(L) + len(E):\n",
    "        return E[0]\n",
    "    else:\n",
    "        return quickselect(H, k - len(L) - len(E))\n",
    "    \n",
    "print(quickselect(l, k))"
   ]
  },
  {
   "cell_type": "code",
   "execution_count": null,
   "metadata": {},
   "outputs": [],
   "source": []
  }
 ],
 "metadata": {
  "kernelspec": {
   "display_name": "Python 3",
   "language": "python",
   "name": "python3"
  },
  "language_info": {
   "codemirror_mode": {
    "name": "ipython",
    "version": 3
   },
   "file_extension": ".py",
   "mimetype": "text/x-python",
   "name": "python",
   "nbconvert_exporter": "python",
   "pygments_lexer": "ipython3",
   "version": "3.7.1"
  }
 },
 "nbformat": 4,
 "nbformat_minor": 2
}
