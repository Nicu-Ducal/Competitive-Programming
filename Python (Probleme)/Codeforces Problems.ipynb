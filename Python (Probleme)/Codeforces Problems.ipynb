{
 "cells": [
  {
   "cell_type": "code",
   "execution_count": 2,
   "metadata": {},
   "outputs": [
    {
     "ename": "ValueError",
     "evalue": "invalid literal for int() with base 10: 'abxyyyxyby\\n'",
     "output_type": "error",
     "traceback": [
      "\u001b[1;31m---------------------------------------------------------------------------\u001b[0m",
      "\u001b[1;31mValueError\u001b[0m                                Traceback (most recent call last)",
      "\u001b[1;32m<ipython-input-2-afe7e1273a6a>\u001b[0m in \u001b[0;36m<module>\u001b[1;34m\u001b[0m\n\u001b[0;32m     51\u001b[0m \u001b[1;33m\u001b[0m\u001b[0m\n\u001b[0;32m     52\u001b[0m \u001b[0mstare\u001b[0m \u001b[1;33m=\u001b[0m \u001b[0mq0\u001b[0m\u001b[1;33m\u001b[0m\u001b[1;33m\u001b[0m\u001b[0m\n\u001b[1;32m---> 53\u001b[1;33m \u001b[0mx\u001b[0m \u001b[1;33m=\u001b[0m \u001b[0mint\u001b[0m\u001b[1;33m(\u001b[0m\u001b[0mf\u001b[0m\u001b[1;33m.\u001b[0m\u001b[0mreadline\u001b[0m\u001b[1;33m(\u001b[0m\u001b[1;33m)\u001b[0m\u001b[1;33m)\u001b[0m\u001b[1;33m\u001b[0m\u001b[1;33m\u001b[0m\u001b[0m\n\u001b[0m\u001b[0;32m     54\u001b[0m \u001b[1;32mfor\u001b[0m \u001b[0mcuvant\u001b[0m \u001b[1;32min\u001b[0m \u001b[0mf\u001b[0m\u001b[1;33m:\u001b[0m\u001b[1;33m\u001b[0m\u001b[1;33m\u001b[0m\u001b[0m\n\u001b[0;32m     55\u001b[0m     \u001b[0mrez\u001b[0m \u001b[1;33m=\u001b[0m \u001b[1;33m[\u001b[0m\u001b[1;33m]\u001b[0m\u001b[1;33m\u001b[0m\u001b[1;33m\u001b[0m\u001b[0m\n",
      "\u001b[1;31mValueError\u001b[0m: invalid literal for int() with base 10: 'abxyyyxyby\\n'"
     ]
    }
   ],
   "source": [
    "f = open(\"text.in\")\n",
    "n = int(f.readline())\n",
    "Q = [int(i) for i in range(n)]\n",
    "m = int(f.readline())\n",
    "E = [x for x in f.readline().split()]\n",
    "E.append('$')\n",
    "d = {}\n",
    "for q in range(len(E)):\n",
    "    d[E[q]] = q\n",
    "#print (d)\n",
    "\n",
    "q0 = int(f.readline())\n",
    "k = int(f.readline())\n",
    "F = [int (x) for x in f.readline().split()]\n",
    "l = int(f.readline())\n",
    "\n",
    "delta = [ {x: [-1] for x in E} for i in range(n)]\n",
    "#print (delta)\n",
    "\n",
    "for x in range(l):\n",
    "    linie = f.readline()\n",
    "    p = (int(linie.split()[0]), linie.split()[1], int(linie.split()[2]))\n",
    "    if delta[p[0]][p[1]] == [-1]:\n",
    "        delta[p[0]][p[1]] = [p[2]]\n",
    "    else:\n",
    "        delta[p[0]][p[1]].append(p[2])\n",
    "\n",
    "#print(delta)\n",
    "def evaluate (cuvant, stare):\n",
    "    global delta, n, m, rez\n",
    "    \n",
    "    if cuvant == '' and stare in F:\n",
    "        rez.append(True)\n",
    "        return\n",
    "    else:\n",
    "        rez.append(False)\n",
    "        return\n",
    "    \n",
    "    print (\"starea: \" + str(stare) + \" cuvant: \" + str(cuvant))\n",
    "    if delta[stare]['$'] != [-1]:\n",
    "        for x in delta[stare]['$']:\n",
    "            evaluate(cuvant,x)\n",
    "            \n",
    "    if delta[stare][cuvant[0]] == [-1]:\n",
    "        rez.append(False)\n",
    "    else:\n",
    "        stari = delta[stare][cuvant[0]]\n",
    "        for x in stari:\n",
    "            evaluate(cuvant[1:], x)\n",
    "        \n",
    "\n",
    "stare = q0\n",
    "x = int(f.readline())\n",
    "for cuvant in f:\n",
    "    rez = []\n",
    "    evaluate(cuvant, stare)\n",
    "    if True in rez:\n",
    "        print(\"acceptat\")\n",
    "    else:\n",
    "        print(\"respins\")"
   ]
  },
  {
   "cell_type": "code",
   "execution_count": null,
   "metadata": {},
   "outputs": [],
   "source": []
  },
  {
   "cell_type": "code",
   "execution_count": null,
   "metadata": {},
   "outputs": [],
   "source": []
  }
 ],
 "metadata": {
  "kernelspec": {
   "display_name": "Python 3",
   "language": "python",
   "name": "python3"
  },
  "language_info": {
   "codemirror_mode": {
    "name": "ipython",
    "version": 3
   },
   "file_extension": ".py",
   "mimetype": "text/x-python",
   "name": "python",
   "nbconvert_exporter": "python",
   "pygments_lexer": "ipython3",
   "version": "3.7.1"
  }
 },
 "nbformat": 4,
 "nbformat_minor": 2
}
