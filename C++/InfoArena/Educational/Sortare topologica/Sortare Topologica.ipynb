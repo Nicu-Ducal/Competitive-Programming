{
 "cells": [
  {
   "cell_type": "code",
   "execution_count": 6,
   "metadata": {},
   "outputs": [],
   "source": [
    "from queue import Queue \n",
    "\n",
    "with open('sortaret.in') as f:\n",
    "    n, m = map(int, f.readline().split())\n",
    "    g = {x:[] for x in range(1, n + 1)}\n",
    "    pred = [0] * (n + 1)\n",
    "    for i in range(m):\n",
    "        x, y = map(int, f.readline().split())\n",
    "        g[x].append(y)\n",
    "        pred[y] += 1\n",
    "        \n",
    "zero = [x for x in range(1, n + 1) if pred[x] == 0]\n",
    "\n",
    "st = []\n",
    "q = Queue()\n",
    "for x in zero:\n",
    "    q.put(x)\n",
    "    st.append(x)\n",
    "    while not q.empty():\n",
    "        curr = q.get()\n",
    "        for succ in g[curr]:\n",
    "            pred[succ] -= 1\n",
    "            if pred[succ] == 0:\n",
    "                st.append(succ)\n",
    "                q.put(succ)\n",
    "                \n",
    "with open(\"sortaret.out\", \"w\") as f:        \n",
    "    for x in st:\n",
    "        print(x, end = \" \", file = f)"
   ]
  },
  {
   "cell_type": "code",
   "execution_count": null,
   "metadata": {},
   "outputs": [],
   "source": []
  }
 ],
 "metadata": {
  "kernelspec": {
   "display_name": "Python 3",
   "language": "python",
   "name": "python3"
  },
  "language_info": {
   "codemirror_mode": {
    "name": "ipython",
    "version": 3
   },
   "file_extension": ".py",
   "mimetype": "text/x-python",
   "name": "python",
   "nbconvert_exporter": "python",
   "pygments_lexer": "ipython3",
   "version": "3.7.1"
  }
 },
 "nbformat": 4,
 "nbformat_minor": 2
}
